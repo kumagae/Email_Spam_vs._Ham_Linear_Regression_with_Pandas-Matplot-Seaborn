{
 "cells": [
  {
   "cell_type": "markdown",
   "metadata": {},
   "source": [
    "# Ham vs. Spam\n",
    "\n",
    "\n",
    "The goal of this project is to take email text and predict whether the email is a spam message or not. A non spam message is called \"ham.\" Here, a logistic regression is used to make a classifier after transforming the email text into numeric features. "
   ]
  },
  {
   "cell_type": "code",
   "execution_count": 1,
   "metadata": {},
   "outputs": [],
   "source": [
    "import numpy as np\n",
    "import pandas as pd\n",
    "\n",
    "import matplotlib.pyplot as plt\n",
    "%matplotlib inline\n",
    "\n",
    "import seaborn as sns\n",
    "sns.set(style = \"whitegrid\", \n",
    "        color_codes = True,\n",
    "        font_scale = 1.5)"
   ]
  },
  {
   "cell_type": "code",
   "execution_count": 2,
   "metadata": {},
   "outputs": [
    {
     "name": "stdout",
     "output_type": "stream",
     "text": [
      "Requirement already satisfied: utils in c:\\users\\ted kumagai\\appdata\\local\\programs\\python\\python36\\lib\\site-packages (1.0.1)\n"
     ]
    }
   ],
   "source": [
    "!pip install utils"
   ]
  },
  {
   "cell_type": "code",
   "execution_count": 3,
   "metadata": {},
   "outputs": [
    {
     "data": {
      "text/html": [
       "<div>\n",
       "<style scoped>\n",
       "    .dataframe tbody tr th:only-of-type {\n",
       "        vertical-align: middle;\n",
       "    }\n",
       "\n",
       "    .dataframe tbody tr th {\n",
       "        vertical-align: top;\n",
       "    }\n",
       "\n",
       "    .dataframe thead th {\n",
       "        text-align: right;\n",
       "    }\n",
       "</style>\n",
       "<table border=\"1\" class=\"dataframe\">\n",
       "  <thead>\n",
       "    <tr style=\"text-align: right;\">\n",
       "      <th></th>\n",
       "      <th>id</th>\n",
       "      <th>subject</th>\n",
       "      <th>email</th>\n",
       "      <th>spam</th>\n",
       "    </tr>\n",
       "  </thead>\n",
       "  <tbody>\n",
       "    <tr>\n",
       "      <th>0</th>\n",
       "      <td>0</td>\n",
       "      <td>Subject: A&amp;L Daily to be auctioned in bankrupt...</td>\n",
       "      <td>url: http://boingboing.net/#85534171\\n date: n...</td>\n",
       "      <td>0</td>\n",
       "    </tr>\n",
       "    <tr>\n",
       "      <th>1</th>\n",
       "      <td>1</td>\n",
       "      <td>Subject: Wired: \"Stronger ties between ISPs an...</td>\n",
       "      <td>url: http://scriptingnews.userland.com/backiss...</td>\n",
       "      <td>0</td>\n",
       "    </tr>\n",
       "    <tr>\n",
       "      <th>2</th>\n",
       "      <td>2</td>\n",
       "      <td>Subject: It's just too small                  ...</td>\n",
       "      <td>&lt;html&gt;\\n &lt;head&gt;\\n &lt;/head&gt;\\n &lt;body&gt;\\n &lt;font siz...</td>\n",
       "      <td>1</td>\n",
       "    </tr>\n",
       "    <tr>\n",
       "      <th>3</th>\n",
       "      <td>3</td>\n",
       "      <td>Subject: liberal defnitions\\n</td>\n",
       "      <td>depends on how much over spending vs. how much...</td>\n",
       "      <td>0</td>\n",
       "    </tr>\n",
       "    <tr>\n",
       "      <th>4</th>\n",
       "      <td>4</td>\n",
       "      <td>Subject: RE: [ILUG] Newbie seeks advice - Suse...</td>\n",
       "      <td>hehe sorry but if you hit caps lock twice the ...</td>\n",
       "      <td>0</td>\n",
       "    </tr>\n",
       "  </tbody>\n",
       "</table>\n",
       "</div>"
      ],
      "text/plain": [
       "   id                                            subject  \\\n",
       "0   0  Subject: A&L Daily to be auctioned in bankrupt...   \n",
       "1   1  Subject: Wired: \"Stronger ties between ISPs an...   \n",
       "2   2  Subject: It's just too small                  ...   \n",
       "3   3                      Subject: liberal defnitions\\n   \n",
       "4   4  Subject: RE: [ILUG] Newbie seeks advice - Suse...   \n",
       "\n",
       "                                               email  spam  \n",
       "0  url: http://boingboing.net/#85534171\\n date: n...     0  \n",
       "1  url: http://scriptingnews.userland.com/backiss...     0  \n",
       "2  <html>\\n <head>\\n </head>\\n <body>\\n <font siz...     1  \n",
       "3  depends on how much over spending vs. how much...     0  \n",
       "4  hehe sorry but if you hit caps lock twice the ...     0  "
      ]
     },
     "execution_count": 3,
     "metadata": {},
     "output_type": "execute_result"
    }
   ],
   "source": [
    "original_training_data = pd.read_csv('data/train.csv')\n",
    "test = pd.read_csv('data/test.csv')\n",
    "\n",
    "# Convert the emails to lower case as a first step to processing the text\n",
    "original_training_data['email'] = original_training_data['email'].str.lower()\n",
    "test['email'] = test['email'].str.lower()\n",
    "\n",
    "original_training_data.head()"
   ]
  },
  {
   "cell_type": "markdown",
   "metadata": {},
   "source": [
    "# Data Cleaning and Prep"
   ]
  },
  {
   "cell_type": "markdown",
   "metadata": {},
   "source": [
    "Checking for NaN values and replacing. "
   ]
  },
  {
   "cell_type": "code",
   "execution_count": 4,
   "metadata": {},
   "outputs": [
    {
     "data": {
      "text/html": [
       "<div>\n",
       "<style scoped>\n",
       "    .dataframe tbody tr th:only-of-type {\n",
       "        vertical-align: middle;\n",
       "    }\n",
       "\n",
       "    .dataframe tbody tr th {\n",
       "        vertical-align: top;\n",
       "    }\n",
       "\n",
       "    .dataframe thead th {\n",
       "        text-align: right;\n",
       "    }\n",
       "</style>\n",
       "<table border=\"1\" class=\"dataframe\">\n",
       "  <thead>\n",
       "    <tr style=\"text-align: right;\">\n",
       "      <th></th>\n",
       "      <th>id</th>\n",
       "      <th>subject</th>\n",
       "      <th>email</th>\n",
       "      <th>spam</th>\n",
       "    </tr>\n",
       "  </thead>\n",
       "  <tbody>\n",
       "    <tr>\n",
       "      <th>0</th>\n",
       "      <td>0</td>\n",
       "      <td>Subject: A&amp;L Daily to be auctioned in bankrupt...</td>\n",
       "      <td>url: http://boingboing.net/#85534171\\n date: n...</td>\n",
       "      <td>0</td>\n",
       "    </tr>\n",
       "    <tr>\n",
       "      <th>1</th>\n",
       "      <td>1</td>\n",
       "      <td>Subject: Wired: \"Stronger ties between ISPs an...</td>\n",
       "      <td>url: http://scriptingnews.userland.com/backiss...</td>\n",
       "      <td>0</td>\n",
       "    </tr>\n",
       "    <tr>\n",
       "      <th>2</th>\n",
       "      <td>2</td>\n",
       "      <td>Subject: It's just too small                  ...</td>\n",
       "      <td>&lt;html&gt;\\n &lt;head&gt;\\n &lt;/head&gt;\\n &lt;body&gt;\\n &lt;font siz...</td>\n",
       "      <td>1</td>\n",
       "    </tr>\n",
       "    <tr>\n",
       "      <th>3</th>\n",
       "      <td>3</td>\n",
       "      <td>Subject: liberal defnitions\\n</td>\n",
       "      <td>depends on how much over spending vs. how much...</td>\n",
       "      <td>0</td>\n",
       "    </tr>\n",
       "    <tr>\n",
       "      <th>4</th>\n",
       "      <td>4</td>\n",
       "      <td>Subject: RE: [ILUG] Newbie seeks advice - Suse...</td>\n",
       "      <td>hehe sorry but if you hit caps lock twice the ...</td>\n",
       "      <td>0</td>\n",
       "    </tr>\n",
       "    <tr>\n",
       "      <th>...</th>\n",
       "      <td>...</td>\n",
       "      <td>...</td>\n",
       "      <td>...</td>\n",
       "      <td>...</td>\n",
       "    </tr>\n",
       "    <tr>\n",
       "      <th>8343</th>\n",
       "      <td>8343</td>\n",
       "      <td>Subject: Re: ALSA (almost) made easy\\n</td>\n",
       "      <td>thanks for this, i'm going to give them anothe...</td>\n",
       "      <td>0</td>\n",
       "    </tr>\n",
       "    <tr>\n",
       "      <th>8344</th>\n",
       "      <td>8344</td>\n",
       "      <td>Subject: Re: Goodbye Global Warming\\n</td>\n",
       "      <td>thanks for the link - i'm fascinated by archae...</td>\n",
       "      <td>0</td>\n",
       "    </tr>\n",
       "    <tr>\n",
       "      <th>8345</th>\n",
       "      <td>8345</td>\n",
       "      <td>Subject: hello\\n</td>\n",
       "      <td>we need help.  we are a 14 year old fortune 50...</td>\n",
       "      <td>1</td>\n",
       "    </tr>\n",
       "    <tr>\n",
       "      <th>8346</th>\n",
       "      <td>8346</td>\n",
       "      <td>Subject: Your application is below. Expires Ju...</td>\n",
       "      <td>&lt;html&gt;\\n \\n \\n &lt;head&gt; \\n &lt;meta charset=3dutf-8...</td>\n",
       "      <td>1</td>\n",
       "    </tr>\n",
       "    <tr>\n",
       "      <th>8347</th>\n",
       "      <td>8347</td>\n",
       "      <td>Subject: Re: [SAtalk] CONFIDENTIAL\\n</td>\n",
       "      <td>on wed, 2002-08-21 at 06:42, craig r.hughes wr...</td>\n",
       "      <td>0</td>\n",
       "    </tr>\n",
       "  </tbody>\n",
       "</table>\n",
       "<p>8348 rows × 4 columns</p>\n",
       "</div>"
      ],
      "text/plain": [
       "        id                                            subject  \\\n",
       "0        0  Subject: A&L Daily to be auctioned in bankrupt...   \n",
       "1        1  Subject: Wired: \"Stronger ties between ISPs an...   \n",
       "2        2  Subject: It's just too small                  ...   \n",
       "3        3                      Subject: liberal defnitions\\n   \n",
       "4        4  Subject: RE: [ILUG] Newbie seeks advice - Suse...   \n",
       "...    ...                                                ...   \n",
       "8343  8343             Subject: Re: ALSA (almost) made easy\\n   \n",
       "8344  8344              Subject: Re: Goodbye Global Warming\\n   \n",
       "8345  8345                                   Subject: hello\\n   \n",
       "8346  8346  Subject: Your application is below. Expires Ju...   \n",
       "8347  8347               Subject: Re: [SAtalk] CONFIDENTIAL\\n   \n",
       "\n",
       "                                                  email  spam  \n",
       "0     url: http://boingboing.net/#85534171\\n date: n...     0  \n",
       "1     url: http://scriptingnews.userland.com/backiss...     0  \n",
       "2     <html>\\n <head>\\n </head>\\n <body>\\n <font siz...     1  \n",
       "3     depends on how much over spending vs. how much...     0  \n",
       "4     hehe sorry but if you hit caps lock twice the ...     0  \n",
       "...                                                 ...   ...  \n",
       "8343  thanks for this, i'm going to give them anothe...     0  \n",
       "8344  thanks for the link - i'm fascinated by archae...     0  \n",
       "8345  we need help.  we are a 14 year old fortune 50...     1  \n",
       "8346  <html>\\n \\n \\n <head> \\n <meta charset=3dutf-8...     1  \n",
       "8347  on wed, 2002-08-21 at 06:42, craig r.hughes wr...     0  \n",
       "\n",
       "[8348 rows x 4 columns]"
      ]
     },
     "execution_count": 4,
     "metadata": {},
     "output_type": "execute_result"
    }
   ],
   "source": [
    "original_training_data.isnull().values.any()\n",
    "original_training_data.fillna(\"\")"
   ]
  },
  {
   "cell_type": "code",
   "execution_count": 5,
   "metadata": {},
   "outputs": [],
   "source": [
    "ham = original_training_data.loc[original_training_data[\"spam\"] == 0, [\"email\"]] #ham\n",
    "spam= original_training_data.loc[original_training_data[\"spam\"] == 1, [\"email\"]] #spam\n",
    "\n",
    "fham = ham.iloc[0]\n",
    "fspam = spam.iloc[0]\n",
    "\n",
    "\n",
    "first_ham = fham[\"email\"]\n",
    "first_spam = fspam[\"email\"]"
   ]
  },
  {
   "cell_type": "code",
   "execution_count": 6,
   "metadata": {},
   "outputs": [
    {
     "data": {
      "text/plain": [
       "'url: http://boingboing.net/#85534171\\n date: not supplied\\n \\n arts and letters daily, a wonderful and dense blog, has folded up its tent due \\n to the bankruptcy of its parent company. a&l daily will be auctioned off by the \\n receivers. link[1] discuss[2] (_thanks, misha!_)\\n \\n [1] http://www.aldaily.com/\\n [2] http://www.quicktopic.com/boing/h/zlfterjnd6jf\\n \\n \\n'"
      ]
     },
     "execution_count": 6,
     "metadata": {},
     "output_type": "execute_result"
    }
   ],
   "source": [
    "first_ham"
   ]
  },
  {
   "cell_type": "code",
   "execution_count": 7,
   "metadata": {},
   "outputs": [
    {
     "data": {
      "text/plain": [
       "'<html>\\n <head>\\n </head>\\n <body>\\n <font size=3d\"4\"><b> a man endowed with a 7-8\" hammer is simply<br>\\n  better equipped than a man with a 5-6\"hammer. <br>\\n <br>would you rather have<br>more than enough to get the job done or fall =\\n short. it\\'s totally up<br>to you. our methods are guaranteed to increase y=\\n our size by 1-3\"<br> <a href=3d\"http://209.163.187.47/cgi-bin/index.php?10=\\n 004\">come in here and see how</a>\\n </body>\\n </html>\\n \\n \\n \\n'"
      ]
     },
     "execution_count": 7,
     "metadata": {},
     "output_type": "execute_result"
    }
   ],
   "source": [
    "first_spam"
   ]
  },
  {
   "cell_type": "markdown",
   "metadata": {},
   "source": [
    "# Test Train Split"
   ]
  },
  {
   "cell_type": "code",
   "execution_count": 8,
   "metadata": {},
   "outputs": [],
   "source": [
    "from sklearn.model_selection import train_test_split\n",
    "\n",
    "[train, val] = train_test_split(original_training_data, test_size=0.1, random_state=42)"
   ]
  },
  {
   "cell_type": "markdown",
   "metadata": {},
   "source": [
    "# Basic Feature Engineering"
   ]
  },
  {
   "cell_type": "code",
   "execution_count": 9,
   "metadata": {},
   "outputs": [],
   "source": [
    "def words_in_texts(words, texts):\n",
    "    '''\n",
    "    Args:\n",
    "        words (list-like): words to find\n",
    "        texts (Series): strings to search in\n",
    "    \n",
    "    Returns:\n",
    "        NumPy array of 0s and 1s with shape (n, p) where n is the\n",
    "        number of texts and p is the number of words.\n",
    "    '''\n",
    "    indicator_array = []\n",
    "    \n",
    "    for text in texts:\n",
    "        current_iteration = []\n",
    "        for word in words:\n",
    "            if word in text:\n",
    "                current_iteration += [1]\n",
    "            else:\n",
    "                current_iteration += [0]\n",
    "        indicator_array += [current_iteration]\n",
    "        \n",
    "    return np.array(indicator_array)"
   ]
  },
  {
   "cell_type": "code",
   "execution_count": 10,
   "metadata": {},
   "outputs": [],
   "source": [
    "words = [\"one\", \"two\", \"three\", \"four\", \"five\", \"seven\"]\n",
    "texts = train[\"email\"]\n",
    "inemails = pd.DataFrame(words_in_texts(words, texts), columns = words)\n",
    "inemails[\"spam\"] = train[\"spam\"]"
   ]
  },
  {
   "cell_type": "code",
   "execution_count": 11,
   "metadata": {},
   "outputs": [
    {
     "data": {
      "text/html": [
       "<div>\n",
       "<style scoped>\n",
       "    .dataframe tbody tr th:only-of-type {\n",
       "        vertical-align: middle;\n",
       "    }\n",
       "\n",
       "    .dataframe tbody tr th {\n",
       "        vertical-align: top;\n",
       "    }\n",
       "\n",
       "    .dataframe thead th {\n",
       "        text-align: right;\n",
       "    }\n",
       "</style>\n",
       "<table border=\"1\" class=\"dataframe\">\n",
       "  <thead>\n",
       "    <tr style=\"text-align: right;\">\n",
       "      <th></th>\n",
       "      <th>one</th>\n",
       "      <th>two</th>\n",
       "      <th>three</th>\n",
       "      <th>four</th>\n",
       "      <th>five</th>\n",
       "      <th>seven</th>\n",
       "      <th>spam</th>\n",
       "    </tr>\n",
       "  </thead>\n",
       "  <tbody>\n",
       "    <tr>\n",
       "      <th>0</th>\n",
       "      <td>0</td>\n",
       "      <td>0</td>\n",
       "      <td>0</td>\n",
       "      <td>0</td>\n",
       "      <td>0</td>\n",
       "      <td>0</td>\n",
       "      <td>0.0</td>\n",
       "    </tr>\n",
       "    <tr>\n",
       "      <th>1</th>\n",
       "      <td>1</td>\n",
       "      <td>1</td>\n",
       "      <td>0</td>\n",
       "      <td>0</td>\n",
       "      <td>0</td>\n",
       "      <td>0</td>\n",
       "      <td>0.0</td>\n",
       "    </tr>\n",
       "    <tr>\n",
       "      <th>2</th>\n",
       "      <td>1</td>\n",
       "      <td>0</td>\n",
       "      <td>0</td>\n",
       "      <td>0</td>\n",
       "      <td>0</td>\n",
       "      <td>0</td>\n",
       "      <td>1.0</td>\n",
       "    </tr>\n",
       "    <tr>\n",
       "      <th>3</th>\n",
       "      <td>1</td>\n",
       "      <td>1</td>\n",
       "      <td>0</td>\n",
       "      <td>0</td>\n",
       "      <td>0</td>\n",
       "      <td>0</td>\n",
       "      <td>0.0</td>\n",
       "    </tr>\n",
       "    <tr>\n",
       "      <th>4</th>\n",
       "      <td>1</td>\n",
       "      <td>1</td>\n",
       "      <td>0</td>\n",
       "      <td>0</td>\n",
       "      <td>0</td>\n",
       "      <td>0</td>\n",
       "      <td>0.0</td>\n",
       "    </tr>\n",
       "  </tbody>\n",
       "</table>\n",
       "</div>"
      ],
      "text/plain": [
       "   one  two  three  four  five  seven  spam\n",
       "0    0    0      0     0     0      0   0.0\n",
       "1    1    1      0     0     0      0   0.0\n",
       "2    1    0      0     0     0      0   1.0\n",
       "3    1    1      0     0     0      0   0.0\n",
       "4    1    1      0     0     0      0   0.0"
      ]
     },
     "execution_count": 11,
     "metadata": {},
     "output_type": "execute_result"
    }
   ],
   "source": [
    "inemails.head()\n"
   ]
  },
  {
   "cell_type": "code",
   "execution_count": 12,
   "metadata": {},
   "outputs": [
    {
     "data": {
      "text/html": [
       "<div>\n",
       "<style scoped>\n",
       "    .dataframe tbody tr th:only-of-type {\n",
       "        vertical-align: middle;\n",
       "    }\n",
       "\n",
       "    .dataframe tbody tr th {\n",
       "        vertical-align: top;\n",
       "    }\n",
       "\n",
       "    .dataframe thead th {\n",
       "        text-align: right;\n",
       "    }\n",
       "</style>\n",
       "<table border=\"1\" class=\"dataframe\">\n",
       "  <thead>\n",
       "    <tr style=\"text-align: right;\">\n",
       "      <th></th>\n",
       "      <th>spam</th>\n",
       "      <th>variable</th>\n",
       "      <th>value</th>\n",
       "    </tr>\n",
       "  </thead>\n",
       "  <tbody>\n",
       "    <tr>\n",
       "      <th>0</th>\n",
       "      <td>0.0</td>\n",
       "      <td>one</td>\n",
       "      <td>0</td>\n",
       "    </tr>\n",
       "    <tr>\n",
       "      <th>1</th>\n",
       "      <td>0.0</td>\n",
       "      <td>one</td>\n",
       "      <td>1</td>\n",
       "    </tr>\n",
       "    <tr>\n",
       "      <th>2</th>\n",
       "      <td>1.0</td>\n",
       "      <td>one</td>\n",
       "      <td>1</td>\n",
       "    </tr>\n",
       "    <tr>\n",
       "      <th>3</th>\n",
       "      <td>0.0</td>\n",
       "      <td>one</td>\n",
       "      <td>1</td>\n",
       "    </tr>\n",
       "    <tr>\n",
       "      <th>4</th>\n",
       "      <td>0.0</td>\n",
       "      <td>one</td>\n",
       "      <td>1</td>\n",
       "    </tr>\n",
       "  </tbody>\n",
       "</table>\n",
       "</div>"
      ],
      "text/plain": [
       "   spam variable  value\n",
       "0   0.0      one      0\n",
       "1   0.0      one      1\n",
       "2   1.0      one      1\n",
       "3   0.0      one      1\n",
       "4   0.0      one      1"
      ]
     },
     "execution_count": 12,
     "metadata": {},
     "output_type": "execute_result"
    }
   ],
   "source": [
    "melted = inemails.melt(\"spam\")\n",
    "melted.head()"
   ]
  },
  {
   "cell_type": "code",
   "execution_count": 13,
   "metadata": {},
   "outputs": [
    {
     "data": {
      "text/html": [
       "<div>\n",
       "<style scoped>\n",
       "    .dataframe tbody tr th:only-of-type {\n",
       "        vertical-align: middle;\n",
       "    }\n",
       "\n",
       "    .dataframe tbody tr th {\n",
       "        vertical-align: top;\n",
       "    }\n",
       "\n",
       "    .dataframe thead th {\n",
       "        text-align: right;\n",
       "    }\n",
       "</style>\n",
       "<table border=\"1\" class=\"dataframe\">\n",
       "  <thead>\n",
       "    <tr style=\"text-align: right;\">\n",
       "      <th></th>\n",
       "      <th>variable</th>\n",
       "      <th>spam</th>\n",
       "      <th>value</th>\n",
       "    </tr>\n",
       "  </thead>\n",
       "  <tbody>\n",
       "    <tr>\n",
       "      <th>0</th>\n",
       "      <td>five</td>\n",
       "      <td>0.0</td>\n",
       "      <td>0.032546</td>\n",
       "    </tr>\n",
       "    <tr>\n",
       "      <th>1</th>\n",
       "      <td>five</td>\n",
       "      <td>1.0</td>\n",
       "      <td>0.033024</td>\n",
       "    </tr>\n",
       "    <tr>\n",
       "      <th>2</th>\n",
       "      <td>four</td>\n",
       "      <td>0.0</td>\n",
       "      <td>0.041476</td>\n",
       "    </tr>\n",
       "    <tr>\n",
       "      <th>3</th>\n",
       "      <td>four</td>\n",
       "      <td>1.0</td>\n",
       "      <td>0.041715</td>\n",
       "    </tr>\n",
       "    <tr>\n",
       "      <th>4</th>\n",
       "      <td>one</td>\n",
       "      <td>0.0</td>\n",
       "      <td>0.589006</td>\n",
       "    </tr>\n",
       "  </tbody>\n",
       "</table>\n",
       "</div>"
      ],
      "text/plain": [
       "  variable  spam     value\n",
       "0     five   0.0  0.032546\n",
       "1     five   1.0  0.033024\n",
       "2     four   0.0  0.041476\n",
       "3     four   1.0  0.041715\n",
       "4      one   0.0  0.589006"
      ]
     },
     "execution_count": 13,
     "metadata": {},
     "output_type": "execute_result"
    }
   ],
   "source": [
    "y = melted.groupby([\"variable\",\"spam\"]).mean().reset_index()\n",
    "y.head()"
   ]
  },
  {
   "cell_type": "code",
   "execution_count": 14,
   "metadata": {},
   "outputs": [],
   "source": [
    "j = y.replace({0:\"ham\" \n",
    "           ,1:\"spam\"\n",
    "          })"
   ]
  },
  {
   "cell_type": "code",
   "execution_count": 15,
   "metadata": {},
   "outputs": [
    {
     "data": {
      "image/png": "[encoded data removed]",
      "text/plain": [
       "<Figure size 432x288 with 1 Axes>"
      ]
     },
     "metadata": {
      "needs_background": "light"
     },
     "output_type": "display_data"
    }
   ],
   "source": [
    "plot = sns.barplot(data = j, x = 'variable', y = 'value', hue = 'spam')\n",
    "\n",
    "plot.set(xlabel = 'Words', \n",
    "         ylabel = 'Proportion of Emails', \n",
    "         title = 'Word Frequency: Ham and Spam Emails')\n",
    "\n",
    "plt.show()"
   ]
  },
  {
   "cell_type": "code",
   "execution_count": 16,
   "metadata": {},
   "outputs": [
    {
     "name": "stderr",
     "output_type": "stream",
     "text": [
      "c:\\users\\ted kumagai\\appdata\\local\\programs\\python\\python36\\lib\\site-packages\\ipykernel_launcher.py:1: SettingWithCopyWarning: \n",
      "A value is trying to be set on a copy of a slice from a DataFrame.\n",
      "Try using .loc[row_indexer,col_indexer] = value instead\n",
      "\n",
      "See the caveats in the documentation: http://pandas.pydata.org/pandas-docs/stable/user_guide/indexing.html#returning-a-view-versus-a-copy\n",
      "  \"\"\"Entry point for launching an IPython kernel.\n"
     ]
    },
    {
     "data": {
      "text/plain": [
       "Text(0, 0.5, 'Distribution')"
      ]
     },
     "execution_count": 16,
     "metadata": {},
     "output_type": "execute_result"
    },
    {
     "data": {
      "image/png": "[encoded data removed]",
      "text/plain": [
       "<Figure size 432x288 with 1 Axes>"
      ]
     },
     "metadata": {
      "needs_background": "light"
     },
     "output_type": "display_data"
    }
   ],
   "source": [
    "train[\"length\"] = train[\"email\"].str.len()\n",
    "\n",
    "spliced=train.iloc[:,5:]  #Both the spam and ham values, need to differentiate btw 0 and 1 to sep. data.\n",
    "\n",
    "hamlen = train[train[\"spam\"] == 0]\n",
    "spamlen = train[train[\"spam\"] == 1]\n",
    "\n",
    "plt.xlim(right=50000)\n",
    "sns.distplot(hamlen[\"length\"], hist=False)\n",
    "sns.distplot(spamlen[\"length\"], hist=False)\n",
    "\n",
    "plt.suptitle('Length of Email Body vs Distribution', fontsize=20)\n",
    "plt.xlabel('Length of Email Body')\n",
    "plt.ylabel('Distribution')"
   ]
  },
  {
   "cell_type": "markdown",
   "metadata": {},
   "source": [
    "# Basic Classification\n",
    "\n",
    "Since the output of words_in_texts(words, train['email']) is a numeric matrix containing features for each email, a classifier can be trained off this data. "
   ]
  },
  {
   "cell_type": "code",
   "execution_count": 17,
   "metadata": {},
   "outputs": [
    {
     "data": {
      "text/plain": [
       "(array([[0, 0, 0, 0, 0],\n",
       "        [0, 0, 0, 0, 0],\n",
       "        [0, 0, 0, 0, 0],\n",
       "        [0, 0, 0, 0, 0],\n",
       "        [0, 0, 0, 1, 0]]), 7657    0\n",
       " 6911    0\n",
       " 6074    0\n",
       " 4376    0\n",
       " 5766    0\n",
       " Name: spam, dtype: int64)"
      ]
     },
     "execution_count": 17,
     "metadata": {},
     "output_type": "execute_result"
    }
   ],
   "source": [
    "some_words = ['drug', 'bank', 'prescription', 'memo', 'private']\n",
    "\n",
    "Phi_train = words_in_texts(some_words, train[\"email\"])\n",
    "Y_train = train[\"spam\"]\n",
    "\n",
    "Phi_train[:5], Y_train[:5]"
   ]
  },
  {
   "cell_type": "markdown",
   "metadata": {},
   "source": [
    "# Logistic Regression Model\n",
    "\n",
    "With the previous matricies, a logistic regression model using Phi_train and Y_train. Seen Below, the model is around 76 percent accurate. "
   ]
  },
  {
   "cell_type": "code",
   "execution_count": 18,
   "metadata": {},
   "outputs": [
    {
     "data": {
      "text/plain": [
       "0.7576201251164648"
      ]
     },
     "execution_count": 18,
     "metadata": {},
     "output_type": "execute_result"
    }
   ],
   "source": [
    "import sklearn.linear_model\n",
    "\n",
    "model=sklearn.linear_model.LogisticRegression(fit_intercept=True)\n",
    "model.fit(Phi_train, Y_train)\n",
    "\n",
    "training_accuracy = np.sum(Y_train == model.predict(Phi_train))/len(Y_train)\n",
    "\n",
    "training_accuracy"
   ]
  },
  {
   "cell_type": "markdown",
   "metadata": {},
   "source": [
    "# Precision, Recall, False-Alarms\n",
    "\n",
    "Presumably, the classifier is should be used for email filtering, preventing spam from reaching an inbox.\n",
    "\n",
    "To get an idea of how accurate the filter is, several accuracy measurements can be created by creating two catagories of errors:\n",
    "\n",
    "- False positive (FP): a ham email gets flagged as spam and filtered out of the inbox.\n",
    "- False negative (FN): a spam email gets mislabeled as ham and ends up in the inbox.\n",
    "\n",
    "\n",
    "With these defintions, overall accuracy can be measured using:\n",
    "\n",
    "\n",
    "- **Precision** measures the proportion $\\frac{TP}{TP + FP}$ of emails correctly flagged as spam.\n",
    "\n",
    "- **Recall** measures the proportion  $\\frac{TP}{TP + FN}$  of spam emails that were correctly flagged as spam\n",
    "\n",
    "- **False-Alarm Rate** measure the proportion  $\\frac{FP}{FP + TN}$  of ham emails that were incorrectly flagged as spam."
   ]
  },
  {
   "cell_type": "code",
   "execution_count": 19,
   "metadata": {},
   "outputs": [
    {
     "data": {
      "text/plain": [
       "1918"
      ]
     },
     "execution_count": 19,
     "metadata": {},
     "output_type": "execute_result"
    }
   ],
   "source": [
    "zero_predictor_fp = 0\n",
    "zero_predictor_fn = sum(Y_train==1)\n",
    "zero_predictor_fn"
   ]
  },
  {
   "cell_type": "code",
   "execution_count": 20,
   "metadata": {},
   "outputs": [
    {
     "data": {
      "text/plain": [
       "0.7447091707706642"
      ]
     },
     "execution_count": 20,
     "metadata": {},
     "output_type": "execute_result"
    }
   ],
   "source": [
    "zero_predictor_acc = np.mean(Y_train==0)\n",
    "zero_predictor_recall = 0\n",
    "zero_predictor_acc"
   ]
  },
  {
   "cell_type": "code",
   "execution_count": 21,
   "metadata": {},
   "outputs": [],
   "source": [
    "logistic_predictor_precision = sum((model.predict(Phi_train) == 1) & (Y_train == 1))/ sum(model.predict(Phi_train) == 1)\n",
    "logistic_predictor_recall = sum((model.predict(Phi_train) == 1) & (Y_train == 1))/ sum(Y_train == 1)\n",
    "\n",
    "\n",
    "logistic_predictor_far = (\n",
    "                           sum((model.predict(Phi_train) == 1)&(Y_train == 0))\n",
    "                          /\n",
    "                          (\n",
    "                           sum((model.predict(Phi_train) == 1)&(Y_train == 0))\n",
    "                           +\n",
    "                           sum((model.predict(Phi_train) == 0)&(Y_train == 0)))\n",
    "                         )"
   ]
  },
  {
   "cell_type": "code",
   "execution_count": 22,
   "metadata": {},
   "outputs": [
    {
     "data": {
      "text/plain": [
       "0.6422287390029325"
      ]
     },
     "execution_count": 22,
     "metadata": {},
     "output_type": "execute_result"
    }
   ],
   "source": [
    "logistic_predictor_precision\n"
   ]
  },
  {
   "cell_type": "code",
   "execution_count": 23,
   "metadata": {},
   "outputs": [
    {
     "data": {
      "text/plain": [
       "0.11418143899895725"
      ]
     },
     "execution_count": 23,
     "metadata": {},
     "output_type": "execute_result"
    }
   ],
   "source": [
    "logistic_predictor_recall\n"
   ]
  },
  {
   "cell_type": "code",
   "execution_count": 24,
   "metadata": {},
   "outputs": [
    {
     "data": {
      "text/plain": [
       "0.021805183199285077"
      ]
     },
     "execution_count": 24,
     "metadata": {},
     "output_type": "execute_result"
    }
   ],
   "source": [
    "logistic_predictor_far"
   ]
  },
  {
   "cell_type": "code",
   "execution_count": 25,
   "metadata": {},
   "outputs": [
    {
     "data": {
      "text/plain": [
       "5473"
      ]
     },
     "execution_count": 25,
     "metadata": {},
     "output_type": "execute_result"
    }
   ],
   "source": [
    "sum((model.predict(Phi_train) == 1)&(Y_train == 0)) # Fp\n",
    "sum((model.predict(Phi_train) == 0)&(Y_train == 0)) # Fn"
   ]
  },
  {
   "cell_type": "markdown",
   "metadata": {},
   "source": [
    "a) Number of False Postive = 0 because the classifier predicts 0 ham for every email. Number of False Negatives = 1918 = sum(Y_train==1)\n",
    "\n",
    "b) Zero Predictor accuracy = 0.74470917077066423 or 74 % Recall = 0 because agin the classifier predicts 0 ham for every email.\n",
    "\n",
    "c) Precision = 0.64 or 64% Recall = 0.11 or 11% False Alarm Rate = 0.22 or 22% More False negatives than Flase Positives: 5473 > 122\n",
    "\n",
    "d) 75.6% > 74% so the logistic classifier is more accurate compared to the zero predictor.\n",
    "\n",
    "e) Maybe because outliers in the dataset. Certain values may slightly skew the data off. Too few features, overfitting/underfitting etc.\n",
    "\n",
    "f) The Logistic classifier because the zero predictor just labels everything as SPAM which is not true. At least the Logistic classifier will make SPAM and HAM predictions."
   ]
  },
  {
   "cell_type": "markdown",
   "metadata": {},
   "source": [
    "# Kaggle"
   ]
  },
  {
   "cell_type": "markdown",
   "metadata": {},
   "source": [
    "In a Kaggle email classification competition, my personal goal for this project was to reach 88 percent accuracy, and within the top 200 or so spots on the leaderboard.\n",
    "\n",
    "1. I created a list of the most frequent words found in a subset of emails and filtered through it to find the most 50 or so most frequently used words. I used common sense in selecting individual words by manually parsing through spam messages and finding buzzphrases. Mainly, I first created a dataframe that stacked individual strings. I then created two functions that gave me the frequency of the string's appearance in spam and ham. After, I used those two definitions to filter the words, finding words that appeared more in spam compared to ham. I then created a tidy format dataframe that stored the words and their frequencies in spam and ham.\n",
    "\n",
    "2. I tried finding the words manually which was taking forever and was very inefficient. I found a few good words this way, but I got lazy and used a ratio comparison method to have the computer do work for me.\n",
    "\n",
    "3. Some words that I thought initially were good SPAM words tured out to be actually good HAM words. I also realized that words that most frequently appeared in spam did not neccesarly differentiate spam vs. ham. Common usage words like \"the\" and \"at\" turned to be poor features to train on as they appeared in both SPAM and HAM commonly."
   ]
  },
  {
   "cell_type": "code",
   "execution_count": 26,
   "metadata": {},
   "outputs": [],
   "source": [
    "spam_mails = train[train['spam']==1]['email']\n",
    "subset_mails = spam_mails.iloc[0:1] #creating a subset of the data. Adjust iloc int elements to widen sample size\n",
    "\n",
    "df = subset_mails.to_frame()\n",
    "\n",
    "j = (\n",
    "    df['email']\n",
    "     .str.split(expand=True)\n",
    "     .stack()\n",
    "     .reset_index()\n",
    "     .iloc[:,1:3]\n",
    "     .set_index('level_1')\n",
    ")\n",
    "\n",
    "j.columns = ['word']\n",
    "del j.index.name\n",
    "\n",
    "wordlist = (j\n",
    "     .groupby('word')['word']\n",
    "     .count()\n",
    "     .sort_values(ascending=False)\n",
    "     .iloc[0:1] #number of words to filter out from initial list. Adjust iloc int to widen sampling.\n",
    "     .to_frame()\n",
    "     .index.values\n",
    "    )\n",
    "\n",
    "def word_percentage_spam(word):\n",
    "    spam_mails = train[train['spam']==1]['email']\n",
    "    iteration = []\n",
    "    for i in spam_mails:\n",
    "        if str(word) in i:\n",
    "            iteration.append(1)\n",
    "        else:\n",
    "            iteration.append(0)\n",
    "    return sum(iteration)/len(spam_mails)\n",
    "\n",
    "def word_percentage_ham(word):\n",
    "    ham_mails = train[train['spam']==0]['email']\n",
    "    iteration = []\n",
    "    for i in ham_mails:\n",
    "        if str(word) in i:\n",
    "            iteration.append(1)\n",
    "        else:\n",
    "            iteration.append(0)\n",
    "    return sum(iteration)/len(ham_mails)"
   ]
  },
  {
   "cell_type": "code",
   "execution_count": 27,
   "metadata": {},
   "outputs": [
    {
     "data": {
      "text/plain": [
       "[]"
      ]
     },
     "execution_count": 27,
     "metadata": {},
     "output_type": "execute_result"
    }
   ],
   "source": [
    "frequent_words = []\n",
    "\n",
    "for element in wordlist:\n",
    "    if 100*(word_percentage_spam(element) - word_percentage_ham(element))> 30:\n",
    "        frequent_words.append(element)\n",
    "    else:\n",
    "        continue\n",
    "        \n",
    "frequent_words"
   ]
  },
  {
   "cell_type": "code",
   "execution_count": 28,
   "metadata": {},
   "outputs": [
    {
     "data": {
      "text/plain": [
       "'<html><head><title>free motorola cell phone with $50 cash back!</title>\\n <style></style>\\n </head>\\n <body bgcolor=#ffffff>\\n <table align=\"center\" border=0 cellpadding=0 cellspacing=0 width=450>\\n   <tbody>\\n   <tr>\\n     <td><img height=1 src=\"images/spacer.gif\" width=185></td>\\n     <td><img height=1 src=\"images/spacer.gif\" width=65></td>\\n     <td><img height=1 src=\"images/spacer.gif\" width=50></td>\\n     <td><img height=1 src=\"images/spacer.gif\" width=150></td></tr>\\n   <tr>\\n     <td colspan=2 rowspan=2><a href=\"http://theadmanager.com/server/c.asp?ad_key=qbfuiexorxkl&ext=1\"><img border=0\\n       height=150\\n       src=\"http://168.143.181.42/htmlemails/images/t193no_option_01.gif\"\\n       width=250></a></td>\\n     <td rowspan=2><a href=\"http://theadmanager.com/server/c.asp?ad_key=qbfuiexorxkl&ext=1\"><img border=0\\n       height=150\\n       src=\"http://168.143.181.42/htmlemails/images/t193no_option_02.gif\"\\n       width=50></a></td>\\n     <td><a href=\"http://theadmanager.com/server/c.asp?ad_key=qbfuiexorxkl&ext=1\"><img border=0 height=100\\n       src=\"http://168.143.181.42/htmlemails/images/t193no_option_03.gif\"\\n       width=150></a></td></tr>\\n   <tr>\\n     <td><a href=\"http://theadmanager.com/server/c.asp?ad_key=qbfuiexorxkl&ext=1\"><img border=0 height=50\\n       src=\"http://168.143.181.42/htmlemails/images/t193no_option_04.gif\"\\n       width=150></a></td></tr>\\n   <tr>\\n     <td><a href=\"http://theadmanager.com/server/c.asp?ad_key=qbfuiexorxkl&ext=1\"><img border=0 height=66\\n       src=\"http://168.143.181.42/htmlemails/images/t193no_option_05.gif\"\\n       width=185></a></td>\\n     <td colspan=2><a href=\"http://theadmanager.com/server/c.asp?ad_key=qbfuiexorxkl&ext=1\"><img border=0 height=66\\n       src=\"http://168.143.181.42/htmlemails/images/t193no_option_06.gif\"\\n       width=115></a></td>\\n     <td><a href=\"http://theadmanager.com/server/c.asp?ad_key=qbfuiexorxkl&ext=1\"><img border=0 height=66\\n       src=\"http://168.143.181.42/htmlemails/images/t193no_option_07.gif\"\\n       width=150></a></td></tr>\\n   <tr>\\n     <td rowspan=2><a href=\"http://theadmanager.com/server/c.asp?ad_key=qbfuiexorxkl&ext=1\"><img border=0\\n       height=154\\n       src=\"http://168.143.181.42/htmlemails/images/t193no_option_08.gif\"\\n       width=185></a></td>\\n     <td colspan=2><a href=\"http://theadmanager.com/server/c.asp?ad_key=qbfuiexorxkl&ext=1\"><img border=0 height=72\\n       src=\"http://168.143.181.42/htmlemails/images/t193no_option_09.gif\"\\n       width=115></a></td>\\n     <td><a href=\"http://theadmanager.com/server/c.asp?ad_key=qbfuiexorxkl&ext=1\"><img border=0 height=72\\n       src=\"http://168.143.181.42/htmlemails/images/t193no_option_10.gif\"\\n       width=150></a></td></tr>\\n   <tr>\\n     <td colspan=2><a href=\"http://theadmanager.com/server/c.asp?ad_key=qbfuiexorxkl&ext=1\"><img border=0 height=82\\n       src=\"http://168.143.181.42/htmlemails/images/t193no_option_11.gif\"\\n       width=115></a></td>\\n     <td><a href=\"http://theadmanager.com/server/c.asp?ad_key=qbfuiexorxkl&ext=1\"><img border=0 height=82\\n       src=\"http://168.143.181.42/htmlemails/images/t193no_option_12.gif\"\\n       width=150></a></td></tr>\\n   <tr>\\n     <td><a href=\"http://theadmanager.com/server/c.asp?ad_key=qbfuiexorxkl&ext=1\"><img border=0 height=80\\n       src=\"http://168.143.181.42/htmlemails/images/t193no_option_13.gif\"\\n       width=185></a></td>\\n     <td colspan=3><a href=\"http://theadmanager.com/server/c.asp?ad_key=qbfuiexorxkl&ext=1\"><img border=0 height=80\\n       src=\"http://168.143.181.42/htmlemails/images/t193no_option_14.gif\"\\n       width=265></a></td></tr></tbody></table>\\n <table align=\"center\" width=450>\\n   <tbody>\\n   <tr>\\n     <td valign=top><a href=\"http://theadmanager.com/server/c.asp?ad_key=qbfuiexorxkl&ext=1\"><img\\n       alt=simplywireless.com border=0 height=59 hspace=10\\n       src=\"http://168.143.181.42/htmlemails/images/swdotcomlogo1.gif\"\\n       width=200></a></td>\\n     <td align=left valign=top width=273><font face=arial size=-3>*free phone\\n       offer subject to voicestream wireless credit approval. must activate a new\\n       line of service to receive a free phone. a one-time activation fee of $25\\n       applies to all new activations. coverage not available in all areas. offer\\n       fulfilled by simplywireless.com, a voicestream authorized dealer. see site\\n       for additional offer details.\\n       <p></p>**$50 mail-in rebate is available for new voicestream service plans\\n       $29.99 and greater. rebate ends\\n 8/31/02.</font></td></font></td></tr></tbody></table>\\n <img src=\"http://admanmail.com/server/t.asp?ad_key=qbfuiexorxkl\" width=\"1\" height=\"1\" hspace=\"0\" vspace=\"0\" border=\"0\" alt=\"t\">\\n <hr size=\"1\" noshade>\\n <font face=\"arial\" size=\"1\" color=\"#000000\">\\n you are receiving this mailing because you are a\\n member of sendgreatoffers.com and subscribed as:jm@netnoteinc.com\\n to unsubscribe <a href=\"http://admanmail.com/subscription.asp?em=jm@netnoteinc.com&l=sgo\">\\n <font face=\"arial\" size=\"1\" color=\"#000000\">click here</a>\\n (http://admanmail.com/subscription.asp?em=jm@netnoteinc.com&l=sgo)\\n or reply to this email with remove in the subject line - you must\\n also include the body of this message to be unsubscribed. any correspondence about\\n the products/services should be directed to\\n the company in the ad.\\n %em%jm@netnoteinc.com%/em%\\n <br></font> </body> </html>\\n \\n'"
      ]
     },
     "execution_count": 28,
     "metadata": {},
     "output_type": "execute_result"
    }
   ],
   "source": [
    "train[train['spam']==1]['email'].iloc[42]\n"
   ]
  },
  {
   "cell_type": "code",
   "execution_count": 29,
   "metadata": {},
   "outputs": [],
   "source": [
    "some_words_spam = list(set(['you',\n",
    " '=',\n",
    " '<td',\n",
    " 'your',\n",
    " '</tr>',\n",
    " '<tr>',\n",
    " '<font',\n",
    " '<br>',\n",
    " 'will',\n",
    " 'from',\n",
    " 'our',\n",
    " 'we',\n",
    " '<p',\n",
    " '</td>',\n",
    " '<table',\n",
    " 'if',\n",
    " 'email',\n",
    " 'sans-serif\"',\n",
    " '<a',\n",
    " 'arial,',\n",
    " '</table>',\n",
    " 'free',\n",
    " 'cialis',\n",
    " 'congratulations',\n",
    " 'free',\n",
    " 'mortgage',\n",
    " 'opportunity',\n",
    " 'today!',\n",
    " 'shipping!',\n",
    " 'available',\n",
    " 'prompt',\n",
    " 'website',\n",
    " 'fast',\n",
    " 'here!',\n",
    " 'prices',\n",
    " 'here!',\n",
    " 'fast',\n",
    " 'true',\n",
    " 'visit',\n",
    " 'account',\n",
    " 'windows',\n",
    " 'please',\n",
    " 'want',\n",
    " 'back',\n",
    " 'nbsp',\n",
    " 'mastercard',\n",
    " 'visa',\n",
    " '<html>',\n",
    " 'unsubscribe',\n",
    " 'click',\n",
    " 'your',\n",
    " 'offer',\n",
    " 'member',\n",
    " 'quote',\n",
    " 'you',\n",
    " '=',\n",
    " '<td',\n",
    " 'your',\n",
    " '</tr>',\n",
    " '<tr>',\n",
    " '<font',\n",
    " '<br>',\n",
    " 'our',\n",
    " '<p',\n",
    " '</td>',\n",
    " '<table',\n",
    " 'email',\n",
    " '<a',\n",
    " '</table>',\n",
    " 'please',\n",
    " 'receive',\n",
    " 'click',\n",
    " '&',\n",
    " 'order',\n",
    " '#',\n",
    " 'removed',\n",
    " 'name',\n",
    " '<html>',\n",
    " '</html>',\n",
    " '</body>',\n",
    " '</head>',\n",
    " '<body',\n",
    " 'offer',\n",
    " '</font>',\n",
    " 'form',\n",
    " '<head>',\n",
    " '5',\n",
    " 'remove',\n",
    " '<p>',\n",
    " '</p>',\n",
    " '<tr',\n",
    " 'html',\n",
    " '&nbsp;',\n",
    " 'low',\n",
    " '<br',\n",
    " 'text/html;',\n",
    " ';']\n",
    "))"
   ]
  },
  {
   "cell_type": "code",
   "execution_count": 30,
   "metadata": {},
   "outputs": [
    {
     "name": "stdout",
     "output_type": "stream",
     "text": [
      "<tr>:difference = 29.92173296394349\n",
      "true:difference = 3.9095870829105013\n",
      "prices:difference = 5.760701728882391\n",
      "offer:difference = 25.21915981515598\n",
      "today!:difference = 5.8932217336162465\n",
      "you:difference = 26.259648259609126\n",
      "<p:difference = 34.45631946444064\n",
      "name:difference = 26.894702461325426\n",
      "remove:difference = 47.25254654414554\n",
      "please:difference = 42.65156492138351\n",
      "back:difference = 5.800631988377828\n",
      "low:difference = 33.23605632542835\n",
      "<br:difference = 41.23569476321868\n",
      "<font:difference = 41.69150543135397\n",
      "visit:difference = 14.39666169984559\n",
      "visa:difference = 2.7886696840337675\n",
      "email:difference = 32.78941517312586\n",
      "available:difference = 8.818306602890075\n",
      "<table:difference = 30.47737394012418\n",
      "free:difference = 21.444618081278815\n",
      "order:difference = 38.06058217106924\n",
      "</p>:difference = 30.666476566948187\n",
      "click:difference = 36.400797300583996\n",
      "our:difference = 32.31733420555557\n",
      "if:difference = 23.557101202939833\n",
      "removed:difference = 28.31861458307125\n",
      "unsubscribe:difference = 9.794384789786054\n",
      ";:difference = 26.90545614147892\n",
      "#:difference = 31.66377323712797\n",
      "<p>:difference = 26.19310403952583\n",
      "<html>:difference = 42.175654003602574\n",
      "</td>:difference = 30.599522327864243\n",
      "&:difference = 30.332273806961197\n",
      "receive:difference = 27.069724662922447\n",
      "we:difference = 19.783286320927463\n",
      "<body:difference = 39.64174589817924\n",
      "cialis:difference = 0.9268106765220323\n",
      "</body>:difference = 39.21417994802078\n",
      "<head>:difference = 30.41486467975186\n",
      "text/html;:difference = 27.59600268748818\n",
      "<a:difference = 43.59698486936702\n",
      "arial,:difference = 19.979648147785756\n",
      "member:difference = 7.062018169432896\n",
      "html:difference = 37.32492421637449\n",
      "from:difference = 15.574198995267075\n",
      "fast:difference = 6.661401649953731\n",
      "want:difference = 10.326048973042182\n",
      "</font>:difference = 40.40741910744455\n",
      "5:difference = 25.143641770126578\n",
      "your:difference = 45.093349212250985\n",
      "nbsp:difference = 26.626689814102978\n",
      "shipping!:difference = 2.3253575319092628\n",
      "sans-serif\":difference = 15.124547930755245\n",
      "<br>:difference = 41.22078498137675\n",
      "website:difference = 9.933381231007502\n",
      "quote:difference = 13.187217471282361\n",
      "</table>:difference = 30.80807290137832\n",
      "form:difference = 27.132625305068114\n",
      "</tr>:difference = 30.390971754350165\n",
      "opportunity:difference = 9.313469776474415\n",
      "=:difference = 43.2818666301377\n",
      "mortgage:difference = 7.627005715105753\n",
      "account:difference = 7.008026121937785\n",
      "prompt:difference = 2.995831784113814\n",
      "windows:difference = 10.246673021961177\n",
      "mastercard:difference = 2.310447750067327\n",
      "<td:difference = 30.58164922688122\n",
      "</html>:difference = 42.27390946594093\n",
      "congratulations:difference = 1.8874199647570034\n",
      "<tr:difference = 30.61591376927672\n",
      "&nbsp;:difference = 25.896762806803707\n",
      "here!:difference = 3.1283517888476697\n",
      "will:difference = 22.146300370601267\n",
      "</head>:difference = 30.29567961115289\n"
     ]
    }
   ],
   "source": [
    "for words in some_words_spam:\n",
    "    print(str(words) + ':' + \"difference = \" + str(100*(word_percentage_spam(words)- word_percentage_ham(words))))"
   ]
  },
  {
   "cell_type": "code",
   "execution_count": 31,
   "metadata": {},
   "outputs": [
    {
     "data": {
      "text/plain": [
       "0.9149700598802395"
      ]
     },
     "execution_count": 31,
     "metadata": {},
     "output_type": "execute_result"
    }
   ],
   "source": [
    "val_Phi_train = words_in_texts(some_words_spam, val[\"email\"])\n",
    "Y_train = np.array(val[\"spam\"])\n",
    "\n",
    "val_Phi_train[:5], Y_train[:5]\n",
    "\n",
    "model=sklearn.linear_model.LogisticRegression(fit_intercept=True)\n",
    "model.fit(val_Phi_train, Y_train)\n",
    "\n",
    "val_accuracy = np.sum(Y_train == model.predict(val_Phi_train))/len(Y_train)\n",
    "\n",
    "\n",
    "val_accuracy\n"
   ]
  },
  {
   "cell_type": "code",
   "execution_count": 32,
   "metadata": {},
   "outputs": [
    {
     "name": "stdout",
     "output_type": "stream",
     "text": [
      "'<tr>': [0.35,0.05,0.3],\n",
      "'true': [0.09,0.05,0.04],\n",
      "'prices': [0.07,0.02,0.06],\n",
      "'offer': [0.31,0.06,0.25],\n",
      "'today!': [0.07,0.01,0.06],\n",
      "'you': [0.87,0.61,0.26],\n",
      "'<p': [0.4,0.05,0.34],\n",
      "'name': [0.41,0.14,0.27],\n",
      "'remove': [0.54,0.06,0.47],\n",
      "'please': [0.53,0.1,0.43],\n",
      "'back': [0.25,0.2,0.06],\n",
      "'low': [0.57,0.24,0.33],\n",
      "'<br': [0.46,0.05,0.41],\n",
      "'<font': [0.47,0.05,0.42],\n",
      "'visit': [0.19,0.05,0.14],\n",
      "'visa': [0.03,0.0,0.03],\n",
      "'email': [0.58,0.25,0.33],\n",
      "'available': [0.16,0.07,0.09],\n",
      "'<table': [0.35,0.05,0.3],\n",
      "'free': [0.49,0.28,0.21],\n",
      "'order': [0.49,0.11,0.38],\n",
      "'</p>': [0.35,0.04,0.31],\n",
      "'click': [0.55,0.19,0.36],\n",
      "'our': [0.89,0.56,0.32],\n",
      "'if': [0.82,0.59,0.24],\n",
      "'removed': [0.31,0.03,0.28],\n",
      "'unsubscribe': [0.19,0.1,0.1],\n",
      "';': [0.53,0.26,0.27],\n",
      "'#': [0.51,0.19,0.32],\n",
      "'<p>': [0.31,0.04,0.26],\n",
      "'<html>': [0.47,0.05,0.42],\n",
      "'</td>': [0.35,0.05,0.31],\n",
      "'&': [0.51,0.21,0.3],\n",
      "'receive': [0.36,0.09,0.27],\n",
      "'we': [0.85,0.65,0.2],\n",
      "'<body': [0.45,0.05,0.4],\n",
      "'cialis': [0.03,0.02,0.01],\n",
      "'</body>': [0.44,0.05,0.39],\n",
      "'<head>': [0.35,0.05,0.3],\n",
      "'text/html;': [0.3,0.02,0.28],\n",
      "'<a': [0.5,0.07,0.44],\n",
      "'arial,': [0.23,0.03,0.2],\n",
      "'member': [0.14,0.07,0.07],\n",
      "'html': [0.6,0.22,0.37],\n",
      "'from': [0.65,0.5,0.16],\n",
      "'fast': [0.15,0.08,0.07],\n",
      "'want': [0.29,0.19,0.1],\n",
      "'</font>': [0.45,0.05,0.4],\n",
      "'5': [0.84,0.59,0.25],\n",
      "'your': [0.77,0.32,0.45],\n",
      "'nbsp': [0.32,0.05,0.27],\n",
      "'shipping!': [0.02,0.0,0.02],\n",
      "'sans-serif\"': [0.16,0.01,0.15],\n",
      "'<br>': [0.46,0.05,0.41],\n",
      "'website': [0.13,0.03,0.1],\n",
      "'quote': [0.19,0.06,0.13],\n",
      "'</table>': [0.35,0.05,0.31],\n",
      "'form': [0.58,0.31,0.27],\n",
      "'</tr>': [0.35,0.05,0.3],\n",
      "'opportunity': [0.11,0.01,0.09],\n",
      "'=': [0.74,0.31,0.43],\n",
      "'mortgage': [0.08,0.0,0.08],\n",
      "'account': [0.12,0.05,0.07],\n",
      "'prompt': [0.04,0.01,0.03],\n",
      "'windows': [0.16,0.06,0.1],\n",
      "'mastercard': [0.02,0.0,0.02],\n",
      "'<td': [0.35,0.05,0.31],\n",
      "'</html>': [0.47,0.05,0.42],\n",
      "'congratulations': [0.02,0.0,0.02],\n",
      "'<tr': [0.35,0.05,0.31],\n",
      "'&nbsp;': [0.31,0.05,0.26],\n",
      "'here!': [0.04,0.01,0.03],\n",
      "'will': [0.5,0.28,0.22],\n",
      "'</head>': [0.35,0.05,0.3],\n"
     ]
    }
   ],
   "source": [
    "for words in some_words_spam:\n",
    "    print(\"'\" \n",
    "          + str(words) \n",
    "          +\"'\" \n",
    "          + ': ' \n",
    "          +'[' \n",
    "          + str(round((word_percentage_spam(words)),2)) \n",
    "          + \",\" \n",
    "          + str(round((word_percentage_ham(words)),2)) \n",
    "          +\",\"\n",
    "          + str(round(word_percentage_spam(words)\n",
    "                      -word_percentage_ham(words),2))\n",
    "          +']' \n",
    "          +',')"
   ]
  },
  {
   "cell_type": "code",
   "execution_count": 33,
   "metadata": {},
   "outputs": [],
   "source": [
    "word_ratio_dict= {'we': [0.85,0.65,0.2],\n",
    "'=': [0.74,0.31,0.43],\n",
    "'sans-serif\"': [0.16,0.01,0.15],\n",
    "'remove': [0.54,0.06,0.47],\n",
    "'&nbsp;': [0.31,0.05,0.26],\n",
    "'today!': [0.07,0.01,0.06],\n",
    "'mastercard': [0.02,0.0,0.02],\n",
    "'#': [0.51,0.19,0.32],\n",
    "'<head>': [0.35,0.05,0.3],\n",
    "'5': [0.84,0.59,0.25],\n",
    "'<table': [0.35,0.05,0.3],\n",
    "'fast': [0.15,0.08,0.07],\n",
    "'back': [0.25,0.2,0.06],\n",
    "'<td': [0.35,0.05,0.31],\n",
    "'</body>': [0.44,0.05,0.39],\n",
    "'<html>': [0.47,0.05,0.42],\n",
    "'prompt': [0.04,0.01,0.03],\n",
    "'</tr>': [0.35,0.05,0.3],\n",
    "'</html>': [0.47,0.05,0.42],\n",
    "'please': [0.53,0.1,0.43],\n",
    "'offer': [0.31,0.06,0.25],\n",
    "'</td>': [0.35,0.05,0.31],\n",
    "'<p': [0.4,0.05,0.34],\n",
    "'</head>': [0.35,0.05,0.3],\n",
    "'shipping!': [0.02,0.0,0.02],\n",
    "'</table>': [0.35,0.05,0.31],\n",
    "'form': [0.58,0.31,0.27],\n",
    "'available': [0.16,0.07,0.09],\n",
    "'removed': [0.31,0.03,0.28],\n",
    "'unsubscribe': [0.19,0.1,0.1],\n",
    "'<tr>': [0.35,0.05,0.3],\n",
    "'email': [0.58,0.25,0.33],\n",
    "'account': [0.12,0.05,0.07],\n",
    "'click': [0.55,0.19,0.36],\n",
    "'free': [0.49,0.28,0.21],\n",
    "'website': [0.13,0.03,0.1],\n",
    "'html': [0.6,0.22,0.37],\n",
    "'windows': [0.16,0.06,0.1],\n",
    "'<a': [0.5,0.07,0.44],\n",
    "'</font>': [0.45,0.05,0.4],\n",
    "'<font': [0.47,0.05,0.42],\n",
    "'visit': [0.19,0.05,0.14],\n",
    "'&': [0.51,0.21,0.3],\n",
    "'quote': [0.19,0.06,0.13],\n",
    "'<tr': [0.35,0.05,0.31],\n",
    "'mortgage': [0.08,0.0,0.08],\n",
    "'<p>': [0.31,0.04,0.26],\n",
    "'order': [0.49,0.11,0.38],\n",
    "'<br': [0.46,0.05,0.41],\n",
    "'your': [0.77,0.32,0.45],\n",
    "'<br>': [0.46,0.05,0.41],\n",
    "'prices': [0.07,0.02,0.06],\n",
    "'will': [0.5,0.28,0.22],\n",
    "'you': [0.87,0.61,0.26],\n",
    "'visa': [0.03,0.0,0.03],\n",
    "'arial,': [0.23,0.03,0.2],\n",
    "'want': [0.29,0.19,0.1],\n",
    "';': [0.53,0.26,0.27],\n",
    "'true': [0.09,0.05,0.04],\n",
    "'receive': [0.36,0.09,0.27],\n",
    "'low': [0.57,0.24,0.33],\n",
    "'member': [0.14,0.07,0.07],\n",
    "'name': [0.41,0.14,0.27],\n",
    "'</p>': [0.35,0.04,0.31],\n",
    "'from': [0.65,0.5,0.16],\n",
    "'cialis': [0.03,0.02,0.01],\n",
    "'if': [0.82,0.59,0.24],\n",
    "'here!': [0.04,0.01,0.03],\n",
    "'<body': [0.45,0.05,0.4],\n",
    "'our': [0.89,0.56,0.32],\n",
    "'nbsp': [0.32,0.05,0.27],\n",
    "'text/html;': [0.3,0.02,0.28],\n",
    "'opportunity': [0.11,0.01,0.09],\n",
    "'congratulations': [0.02,0.0,0.02]}"
   ]
  },
  {
   "cell_type": "code",
   "execution_count": 34,
   "metadata": {},
   "outputs": [
    {
     "data": {
      "text/html": [
       "<div>\n",
       "<style scoped>\n",
       "    .dataframe tbody tr th:only-of-type {\n",
       "        vertical-align: middle;\n",
       "    }\n",
       "\n",
       "    .dataframe tbody tr th {\n",
       "        vertical-align: top;\n",
       "    }\n",
       "\n",
       "    .dataframe thead th {\n",
       "        text-align: right;\n",
       "    }\n",
       "</style>\n",
       "<table border=\"1\" class=\"dataframe\">\n",
       "  <thead>\n",
       "    <tr style=\"text-align: right;\">\n",
       "      <th></th>\n",
       "      <th>word_percentage_spam</th>\n",
       "      <th>word_percentage_ham</th>\n",
       "      <th>ratio_diff</th>\n",
       "    </tr>\n",
       "  </thead>\n",
       "  <tbody>\n",
       "    <tr>\n",
       "      <th>we</th>\n",
       "      <td>0.85</td>\n",
       "      <td>0.65</td>\n",
       "      <td>0.20</td>\n",
       "    </tr>\n",
       "    <tr>\n",
       "      <th>=</th>\n",
       "      <td>0.74</td>\n",
       "      <td>0.31</td>\n",
       "      <td>0.43</td>\n",
       "    </tr>\n",
       "    <tr>\n",
       "      <th>sans-serif\"</th>\n",
       "      <td>0.16</td>\n",
       "      <td>0.01</td>\n",
       "      <td>0.15</td>\n",
       "    </tr>\n",
       "    <tr>\n",
       "      <th>remove</th>\n",
       "      <td>0.54</td>\n",
       "      <td>0.06</td>\n",
       "      <td>0.47</td>\n",
       "    </tr>\n",
       "    <tr>\n",
       "      <th>&amp;nbsp;</th>\n",
       "      <td>0.31</td>\n",
       "      <td>0.05</td>\n",
       "      <td>0.26</td>\n",
       "    </tr>\n",
       "  </tbody>\n",
       "</table>\n",
       "</div>"
      ],
      "text/plain": [
       "             word_percentage_spam  word_percentage_ham  ratio_diff\n",
       "we                           0.85                 0.65        0.20\n",
       "=                            0.74                 0.31        0.43\n",
       "sans-serif\"                  0.16                 0.01        0.15\n",
       "remove                       0.54                 0.06        0.47\n",
       "&nbsp;                       0.31                 0.05        0.26"
      ]
     },
     "execution_count": 34,
     "metadata": {},
     "output_type": "execute_result"
    }
   ],
   "source": [
    "#print(word_ratio_dict)\n",
    "wrd_ratio_df = pd.DataFrame.from_dict(word_ratio_dict, orient='index')\n",
    "wrd_ratio_df.columns = ['word_percentage_spam', 'word_percentage_ham', 'ratio_diff']\n",
    "wrd_ratio_df.head()"
   ]
  },
  {
   "cell_type": "code",
   "execution_count": 35,
   "metadata": {},
   "outputs": [],
   "source": [
    "df1 = wrd_ratio_df[\"ratio_diff\"]"
   ]
  },
  {
   "cell_type": "markdown",
   "metadata": {},
   "source": [
    "# EDA\n",
    "\n",
    "Below I used sns heatmap to get an idea of the frequency of appearance within ham and spam messages. In this plot, the words in word_percentage_spam have a clear lighter color compared to the set adjacent to it in word_percentage_ham. Lighter coloring means more frequent appearances of specific words, and the difference in the two data sets in ratio_difference are still lighter than the ham messages, therefore, my features have selected out clear strings that appear in the spam mails.\n",
    "\n",
    "In summary:\n",
    "\n",
    "word_percentage_spam column: generally lighter in color which in this illustates a high frequency of appearance of selected strings on the y axes.\n",
    "\n",
    "word_percentage_ham column: darker in color, so low appearance frequency of selected strings on y axes.\n",
    "\n",
    "Ratio_difference: The ratio difference of spam_percentage - ham_percentage. Shows a darker color than the spam_coloumn but still lighter than the ham_coloumn."
   ]
  },
  {
   "cell_type": "code",
   "execution_count": 36,
   "metadata": {},
   "outputs": [
    {
     "data": {
      "text/plain": [
       "Text(0.5, 0.98, 'Heatmap Density Plot: SPAM/HAM/RATIO_DIFFERENCE vs. Word')"
      ]
     },
     "execution_count": 36,
     "metadata": {},
     "output_type": "execute_result"
    },
    {
     "data": {
      "image/png": "[encoded data removed]",
      "text/plain": [
       "<Figure size 432x288 with 2 Axes>"
      ]
     },
     "metadata": {
      "needs_background": "light"
     },
     "output_type": "display_data"
    }
   ],
   "source": [
    "sns.heatmap(wrd_ratio_df)\n",
    "plt.suptitle('Heatmap Density Plot: SPAM/HAM/RATIO_DIFFERENCE vs. Word', fontsize=20)"
   ]
  },
  {
   "cell_type": "markdown",
   "metadata": {},
   "source": [
    "# Making a Precision-Recall Curve\n",
    "\n",
    "Logistic regression calculates the probability that an example belongs to a certain class. To classify an example, an email will be called spam if the classifier gives it $>= 0.5$. This cutoff can be adjusted as necessary. \n",
    "\n",
    "A precision-recall curve shows the trade off for each possible cutoff probability. "
   ]
  },
  {
   "cell_type": "code",
   "execution_count": 37,
   "metadata": {},
   "outputs": [
    {
     "name": "stdout",
     "output_type": "stream",
     "text": [
      "Requirement already satisfied: scikit-learn in c:\\users\\ted kumagai\\appdata\\local\\programs\\python\\python36\\lib\\site-packages (0.23.2)\n",
      "Requirement already satisfied: scipy>=0.19.1 in c:\\users\\ted kumagai\\appdata\\local\\programs\\python\\python36\\lib\\site-packages (from scikit-learn) (1.5.2)\n",
      "Requirement already satisfied: joblib>=0.11 in c:\\users\\ted kumagai\\appdata\\local\\programs\\python\\python36\\lib\\site-packages (from scikit-learn) (0.16.0)\n",
      "Requirement already satisfied: numpy>=1.13.3 in c:\\users\\ted kumagai\\appdata\\local\\programs\\python\\python36\\lib\\site-packages (from scikit-learn) (1.16.3)\n",
      "Requirement already satisfied: threadpoolctl>=2.0.0 in c:\\users\\ted kumagai\\appdata\\local\\programs\\python\\python36\\lib\\site-packages (from scikit-learn) (2.1.0)\n"
     ]
    }
   ],
   "source": [
    "!pip install --user scikit-learn"
   ]
  },
  {
   "cell_type": "code",
   "execution_count": 38,
   "metadata": {},
   "outputs": [
    {
     "name": "stdout",
     "output_type": "stream",
     "text": [
      "Requirement already satisfied: funcsigs in c:\\users\\ted kumagai\\appdata\\local\\programs\\python\\python36\\lib\\site-packages (1.0.2)\n"
     ]
    }
   ],
   "source": [
    "from sklearn.metrics import precision_recall_curve\n",
    "!pip install funcsigs"
   ]
  },
  {
   "cell_type": "code",
   "execution_count": 39,
   "metadata": {},
   "outputs": [
    {
     "data": {
      "text/plain": [
       "(0.0, 1.0)"
      ]
     },
     "execution_count": 39,
     "metadata": {},
     "output_type": "execute_result"
    },
    {
     "data": {
      "image/png": "[encoded data removed]",
      "text/plain": [
       "<Figure size 432x288 with 1 Axes>"
      ]
     },
     "metadata": {
      "needs_background": "light"
     },
     "output_type": "display_data"
    }
   ],
   "source": [
    "from funcsigs import signature\n",
    "\n",
    "trainpro = model.predict_proba(val_Phi_train)[:,1]\n",
    "precision, recall, _ = precision_recall_curve(Y_train, trainpro)\n",
    "\n",
    "# In matplotlib < 1.5, plt.fill_between does not have a 'step' argument\n",
    "step_kwargs = ({'step': 'post'}\n",
    "               if 'step' in signature(plt.fill_between).parameters\n",
    "               else {})\n",
    "plt.step(recall, precision, color='b', alpha=0.2,\n",
    "         where='post')\n",
    "plt.fill_between(recall, precision, alpha=0.2, color='b', **step_kwargs)\n",
    "\n",
    "plt.suptitle('Precision-Recall Curve', fontsize=20)\n",
    "plt.xlabel('Recall')\n",
    "plt.ylabel('Precision')\n",
    "plt.ylim([0.0, 1.05])\n",
    "plt.xlim([0.0, 1.0])"
   ]
  },
  {
   "cell_type": "markdown",
   "metadata": {},
   "source": [
    "# Kaggle Submission CSV"
   ]
  },
  {
   "cell_type": "code",
   "execution_count": 40,
   "metadata": {},
   "outputs": [],
   "source": [
    "test_feature = words_in_texts(some_words_spam, test['email'])\n",
    "test_predictions =model.predict(test_feature)\n",
    "\n",
    "from datetime import datetime\n",
    "\n",
    "# must be ndarray of predictions\n",
    "assert isinstance(test_predictions, np.ndarray) \n",
    "\n",
    "# must be binary labels (0 or 1) and not probabilities\n",
    "assert np.all((test_predictions == 0) | (test_predictions == 1))\n",
    "\n",
    "# must be the right number of predictions\n",
    "assert test_predictions.shape == (1000, )\n",
    "\n"
   ]
  },
  {
   "cell_type": "code",
   "execution_count": 43,
   "metadata": {},
   "outputs": [
    {
     "data": {
      "text/html": [
       "<div>\n",
       "<style scoped>\n",
       "    .dataframe tbody tr th:only-of-type {\n",
       "        vertical-align: middle;\n",
       "    }\n",
       "\n",
       "    .dataframe tbody tr th {\n",
       "        vertical-align: top;\n",
       "    }\n",
       "\n",
       "    .dataframe thead th {\n",
       "        text-align: right;\n",
       "    }\n",
       "</style>\n",
       "<table border=\"1\" class=\"dataframe\">\n",
       "  <thead>\n",
       "    <tr style=\"text-align: right;\">\n",
       "      <th></th>\n",
       "      <th>Id</th>\n",
       "      <th>Class</th>\n",
       "    </tr>\n",
       "  </thead>\n",
       "  <tbody>\n",
       "    <tr>\n",
       "      <th>0</th>\n",
       "      <td>0</td>\n",
       "      <td>0</td>\n",
       "    </tr>\n",
       "    <tr>\n",
       "      <th>1</th>\n",
       "      <td>1</td>\n",
       "      <td>0</td>\n",
       "    </tr>\n",
       "    <tr>\n",
       "      <th>2</th>\n",
       "      <td>2</td>\n",
       "      <td>0</td>\n",
       "    </tr>\n",
       "    <tr>\n",
       "      <th>3</th>\n",
       "      <td>3</td>\n",
       "      <td>0</td>\n",
       "    </tr>\n",
       "    <tr>\n",
       "      <th>4</th>\n",
       "      <td>4</td>\n",
       "      <td>0</td>\n",
       "    </tr>\n",
       "    <tr>\n",
       "      <th>...</th>\n",
       "      <td>...</td>\n",
       "      <td>...</td>\n",
       "    </tr>\n",
       "    <tr>\n",
       "      <th>995</th>\n",
       "      <td>995</td>\n",
       "      <td>0</td>\n",
       "    </tr>\n",
       "    <tr>\n",
       "      <th>996</th>\n",
       "      <td>996</td>\n",
       "      <td>0</td>\n",
       "    </tr>\n",
       "    <tr>\n",
       "      <th>997</th>\n",
       "      <td>997</td>\n",
       "      <td>0</td>\n",
       "    </tr>\n",
       "    <tr>\n",
       "      <th>998</th>\n",
       "      <td>998</td>\n",
       "      <td>0</td>\n",
       "    </tr>\n",
       "    <tr>\n",
       "      <th>999</th>\n",
       "      <td>999</td>\n",
       "      <td>1</td>\n",
       "    </tr>\n",
       "  </tbody>\n",
       "</table>\n",
       "<p>1000 rows × 2 columns</p>\n",
       "</div>"
      ],
      "text/plain": [
       "      Id  Class\n",
       "0      0      0\n",
       "1      1      0\n",
       "2      2      0\n",
       "3      3      0\n",
       "4      4      0\n",
       "..   ...    ...\n",
       "995  995      0\n",
       "996  996      0\n",
       "997  997      0\n",
       "998  998      0\n",
       "999  999      1\n",
       "\n",
       "[1000 rows x 2 columns]"
      ]
     },
     "execution_count": 43,
     "metadata": {},
     "output_type": "execute_result"
    }
   ],
   "source": [
    "# Construct and save the submission:\n",
    "submission_df = pd.DataFrame({\n",
    "    \"Id\": test['id'], \n",
    "    \"Class\": test_predictions,\n",
    "}, columns=['Id', 'Class'])\n",
    "timestamp = datetime.isoformat(datetime.now()).split(\".\")[0]\n",
    "\n",
    "submission_df"
   ]
  },
  {
   "cell_type": "code",
   "execution_count": 45,
   "metadata": {},
   "outputs": [],
   "source": [
    "submission_df.to_csv(\"submission_{}.csv\", index=False)"
   ]
  },
  {
   "cell_type": "code",
   "execution_count": 46,
   "metadata": {},
   "outputs": [
    {
     "name": "stdout",
     "output_type": "stream",
     "text": [
      "Created a CSV file: submission_2020-08-08T12:09:33.csv.\n",
      "You may now upload this CSV file to Kaggle for scoring.\n"
     ]
    }
   ],
   "source": [
    "print('Created a CSV file: {}.'.format(\"submission_{}.csv\".format(timestamp)))\n",
    "print('You may now upload this CSV file to Kaggle for scoring.')"
   ]
  },
  {
   "cell_type": "code",
   "execution_count": null,
   "metadata": {},
   "outputs": [],
   "source": []
  }
 ],
 "metadata": {
  "kernelspec": {
   "display_name": "Python 3",
   "language": "python",
   "name": "python3"
  },
  "language_info": {
   "codemirror_mode": {
    "name": "ipython",
    "version": 3
   },
   "file_extension": ".py",
   "mimetype": "text/x-python",
   "name": "python",
   "nbconvert_exporter": "python",
   "pygments_lexer": "ipython3",
   "version": "3.6.0"
  }
 },
 "nbformat": 4,
 "nbformat_minor": 2
}
